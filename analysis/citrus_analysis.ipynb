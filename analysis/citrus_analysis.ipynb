{
 "cells": [
  {
   "cell_type": "markdown",
   "id": "a4072f1d",
   "metadata": {},
   "source": [
    "# Load and Prepare Data "
   ]
  },
  {
   "cell_type": "code",
   "execution_count": null,
   "id": "2e9ec434",
   "metadata": {},
   "outputs": [
    {
     "name": "stdout",
     "output_type": "stream",
     "text": [
      "Step 1: Loading and Preparing Data \n",
      "--- First 5 entries of each array ---\n",
      "Orange Diameter: [2.96 3.91 4.42 4.47 4.48]\n",
      "Orange Weight:   [86.76 88.05 95.17 95.6  95.76]\n",
      "Grapefruit Diameter: [7.63 7.69 7.72 7.77 7.84]\n",
      "Grapefruit Weight:   [126.79 133.98 135.56 135.62 136.63]\n",
      "\n",
      "==================================================\n",
      "\n"
     ]
    }
   ],
   "source": [
    "import pandas as pd\n",
    "import numpy as np\n",
    "import matplotlib.pyplot as plt\n",
    "\n",
    "def run_citrus_analysis():\n",
    "    #  Load and Prepare Data \n",
    "    print(\"Step 1: Loading and Preparing Data \")\n",
    "    \n",
    "    try:\n",
    "        # Load the dataset using pandas\n",
    "        citrus_df = pd.read_csv('../data/citrus.csv')\n",
    "    except FileNotFoundError:\n",
    "        print(\"Error: '../data/citrus.csv' not found. Make sure the file is in the same directory as the script.\")\n",
    "        return\n",
    "\n",
    "    # Convert the DataFrame to a NumPy array for numerical operations\n",
    "    # The first column 'name' is categorical, so we'll work with diameter and weight\n",
    "    data = citrus_df[['diameter', 'weight']].to_numpy()\n",
    "\n",
    "    # Using Slice Notation to select data\n",
    "    # Oranges are the first 5000 rows\n",
    "    oranges_data = data[:5000, :]\n",
    "    # Grapefruits are the next 5000 rows\n",
    "    grapefruit_data = data[5000:, :]\n",
    "\n",
    "    # Creating specific arrays for diameter and weight for each fruit\n",
    "    orange_diameter = oranges_data[:, 0]\n",
    "    orange_weight = oranges_data[:, 1]\n",
    "\n",
    "    grapefruit_diameter = grapefruit_data[:, 0]\n",
    "    grapefruit_weight = grapefruit_data[:, 1]\n",
    "\n",
    "    print(\"--- First 5 entries of each array ---\")\n",
    "    print(f\"Orange Diameter: {orange_diameter[:5]}\")\n",
    "    print(f\"Orange Weight:   {orange_weight[:5]}\")\n",
    "    print(f\"Grapefruit Diameter: {grapefruit_diameter[:5]}\")\n",
    "    print(f\"Grapefruit Weight:   {grapefruit_weight[:5]}\")\n",
    "    print(\"\\n\" + \"=\"*50 + \"\\n\")\n",
    "\n",
    "run_citrus_analysis()\n",
    "    "
   ]
  }
 ],
 "metadata": {
  "kernelspec": {
   "display_name": "base",
   "language": "python",
   "name": "python3"
  },
  "language_info": {
   "codemirror_mode": {
    "name": "ipython",
    "version": 3
   },
   "file_extension": ".py",
   "mimetype": "text/x-python",
   "name": "python",
   "nbconvert_exporter": "python",
   "pygments_lexer": "ipython3",
   "version": "3.12.4"
  }
 },
 "nbformat": 4,
 "nbformat_minor": 5
}
